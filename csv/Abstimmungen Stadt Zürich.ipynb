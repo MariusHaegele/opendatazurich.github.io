{
 "cells": [
  {
   "cell_type": "code",
   "execution_count": null,
   "id": "6457c836",
   "metadata": {},
   "outputs": [],
   "source": [
    "import pandas as pd\n",
    "import matplotlib.pyplot as plt\n",
    "import matplotlib.dates as mdates\n",
    "import matplotlib.ticker as ticker\n",
    "import datetime"
   ]
  },
  {
   "cell_type": "code",
   "execution_count": null,
   "id": "33b01aec",
   "metadata": {},
   "outputs": [],
   "source": [
    "sb = pd.read_csv('https://data.stadt-zuerich.ch/dataset/politik_stimmbeteiligung-vor-urnengangen/download/stimmbeteiligung.csv', parse_dates=[0, 2])\n",
    "sb['Aktualisierungs_Datum'] = sb['Aktualisierungs_Datum'].dt.date # nur das Datum behalten (ohne Zeit)\n",
    "sb"
   ]
  },
  {
   "cell_type": "code",
   "execution_count": null,
   "id": "7aa22c18",
   "metadata": {},
   "outputs": [],
   "source": [
    "#latest = sb[sb.Abstimmungs_Datum == '2021-09-26'].reset_index(drop=True)\n",
    "latest = sb[sb.Abstimmungs_Datum == sb.Abstimmungs_Datum.max()].reset_index(drop=True)\n",
    "latest"
   ]
  },
  {
   "cell_type": "code",
   "execution_count": null,
   "id": "ac4df4ca",
   "metadata": {},
   "outputs": [],
   "source": [
    "latest_point = latest[latest.Aktualisierungs_Datum == latest.Aktualisierungs_Datum.max()].to_dict('records')[0]\n",
    "latest_point"
   ]
  },
  {
   "cell_type": "code",
   "execution_count": null,
   "id": "614883d9",
   "metadata": {
    "code_folding": []
   },
   "outputs": [],
   "source": [
    "#plt.style.use('default')\n",
    "plt.style.use('fivethirtyeight')\n",
    "fig, ax = plt.subplots()\n",
    "\n",
    "latest.plot(kind='line', y='Stimmbeteiligung_Prozent', x=\"Aktualisierungs_Datum\", label=\"Stimmbeteiligung\", ax=ax)\n",
    "ax.legend().set_visible(False)\n",
    "\n",
    "# immer von 0-100% zeigen\n",
    "ax.set_ylim(bottom=0, top=100)\n",
    "\n",
    "# Chart soll vom «ersten Datum - 2 Tage» bis «Abstimmungssonntag + 3 Tage» gehen\n",
    "ax.set_xlim(\n",
    "    left=latest.iloc[0]['Aktualisierungs_Datum'] - pd.DateOffset(2),\n",
    "    right=latest.iloc[0]['Abstimmungs_Datum'] + pd.DateOffset(3)\n",
    ")\n",
    "\n",
    "ax.set_ylabel('Stimmbeteiligung in %')\n",
    "ax.set_xlabel('Aktualisierungsdatum')\n",
    "\n",
    "# Major ticks alle 5 Tage, ab dem 5.\n",
    "day_locator = mdates.DayLocator(bymonthday=range(5, 31, 5))\n",
    "ax.xaxis.set_major_locator(day_locator)\n",
    "ax.xaxis.set_major_formatter(mdates.DateFormatter('%d.%m.%Y'))\n",
    "plt.xticks(rotation=45, ha='right', rotation_mode='anchor')\n",
    "\n",
    "# Minor ticks off\n",
    "ax.xaxis.set_minor_locator(ticker.NullLocator())\n",
    "\n",
    "# Abstimmungssonntag als Rote Linie mit Text zeigen\n",
    "plt.axvline(latest.iloc[0]['Abstimmungs_Datum'], color=\"red\")\n",
    "ax.annotate(f\"Abstimmungssonntag {latest.iloc[0]['Abstimmungs_Datum'].strftime('%d.%m.%Y')}\",\n",
    "            xy=(latest.iloc[0]['Abstimmungs_Datum'], 50),\n",
    "            color='red',\n",
    "            xycoords='data',\n",
    "            xytext=(50,-50),\n",
    "            textcoords='offset points',\n",
    "            arrowprops=dict(arrowstyle='-', color='red', connectionstyle=\"angle3,angleA=90,angleB=0\"),\n",
    "            fontsize=12)\n",
    "\n",
    "# Annotation für neuesten Datenpunkt\n",
    "ax.annotate(f\"{latest_point['Aktualisierungs_Datum'].strftime('%d.%m.%Y')}: {latest_point['Stimmbeteiligung_Prozent']}%\",\n",
    "            xy=(latest_point['Aktualisierungs_Datum'], latest_point['Stimmbeteiligung_Prozent']),\n",
    "            color='black',\n",
    "            alpha=0.5,\n",
    "            xycoords='data',\n",
    "            xytext=(30,30),\n",
    "            textcoords='offset points',\n",
    "            arrowprops=dict(headwidth=8, width=0.7, color='black', alpha=0.5, connectionstyle=\"angle3,angleA=0,angleB=-90\"),\n",
    "            fontsize=12)\n",
    "\n",
    "plt.show()"
   ]
  },
  {
   "cell_type": "code",
   "execution_count": null,
   "id": "748417f9",
   "metadata": {},
   "outputs": [],
   "source": []
  }
 ],
 "metadata": {
  "kernelspec": {
   "display_name": "Python 3 (ipykernel)",
   "language": "python",
   "name": "python3"
  },
  "language_info": {
   "codemirror_mode": {
    "name": "ipython",
    "version": 3
   },
   "file_extension": ".py",
   "mimetype": "text/x-python",
   "name": "python",
   "nbconvert_exporter": "python",
   "pygments_lexer": "ipython3",
   "version": "3.7.3"
  },
  "toc": {
   "base_numbering": 1,
   "nav_menu": {},
   "number_sections": true,
   "sideBar": true,
   "skip_h1_title": false,
   "title_cell": "Table of Contents",
   "title_sidebar": "Contents",
   "toc_cell": false,
   "toc_position": {},
   "toc_section_display": true,
   "toc_window_display": false
  }
 },
 "nbformat": 4,
 "nbformat_minor": 5
}
