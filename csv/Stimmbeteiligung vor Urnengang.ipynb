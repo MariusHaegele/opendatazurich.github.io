{
 "cells": [
  {
   "cell_type": "code",
   "execution_count": null,
   "id": "3db47f30",
   "metadata": {},
   "outputs": [],
   "source": [
    "import pandas as pd\n",
    "import matplotlib.pyplot as plt\n",
    "import numpy as np\n",
    "import sszpalette\n",
    "from datetime import datetime"
   ]
  },
  {
   "cell_type": "code",
   "execution_count": null,
   "id": "717b8c9a",
   "metadata": {},
   "outputs": [],
   "source": [
    "def use_style(style):\n",
    "    plt.style.use('default')\n",
    "    plt.style.use(style)"
   ]
  },
  {
   "cell_type": "code",
   "execution_count": null,
   "id": "b6d5c40d",
   "metadata": {},
   "outputs": [],
   "source": [
    "sszpalette.register()"
   ]
  },
  {
   "cell_type": "code",
   "execution_count": null,
   "id": "3c722379",
   "metadata": {},
   "outputs": [],
   "source": [
    "df = pd.read_csv(\"https://data.stadt-zuerich.ch/dataset/politik_stimmbeteiligung-vor-urnengangen/download/stimmbeteiligung.csv\", parse_dates=[0,2])\n",
    "df"
   ]
  },
  {
   "cell_type": "code",
   "execution_count": null,
   "id": "72ddf6e6",
   "metadata": {},
   "outputs": [],
   "source": [
    "df['Tage_vor_Urnengang'] = (df['Abstimmungs_Datum'] - df['Aktualisierungs_Datum']).dt.days\n",
    "df"
   ]
  },
  {
   "cell_type": "code",
   "execution_count": null,
   "id": "b845d172",
   "metadata": {},
   "outputs": [],
   "source": [
    "df_abst = df.groupby(['Abstimmungs_Datum'], as_index=False).agg(count=('Aktualisierungs_Datum', 'count'))\n",
    "abstimmungstermine = [d.date().isoformat() for d in df_abst['Abstimmungs_Datum'].to_list()]\n",
    "abstimmungstermine"
   ]
  },
  {
   "cell_type": "code",
   "execution_count": null,
   "id": "14e4a78c",
   "metadata": {},
   "outputs": [],
   "source": [
    "abstimmungstermine[-6:]"
   ]
  },
  {
   "cell_type": "code",
   "execution_count": null,
   "id": "a9ce9747",
   "metadata": {},
   "outputs": [],
   "source": [
    "use_style('seaborn')\n",
    "plt.set_cmap('contrasting12hell')\n",
    "plt.rcParams['axes.prop_cycle'] = plt.cycler(color=plt.get_cmap().colors)"
   ]
  },
  {
   "cell_type": "code",
   "execution_count": null,
   "id": "53775f48",
   "metadata": {},
   "outputs": [],
   "source": [
    "fig, ax = plt.subplots(figsize=(10,5))\n",
    "\n",
    "# Letzte 8 Abstimmungstermine\n",
    "for abst_date in abstimmungstermine[-6:]:\n",
    "    df_date = df[df.Abstimmungs_Datum == abst_date]\n",
    "    swiss_date = datetime.fromisoformat(abst_date).strftime('%d.%m.%Y')\n",
    "    df_date.plot(kind='line', y='Stimmbeteiligung_Prozent', x=\"Tage_vor_Urnengang\", label=swiss_date, ax=ax)\n",
    "\n",
    "min_val = 1\n",
    "max_val = 21\n",
    "step = 1\n",
    "plt.xticks(np.arange(min_val, max_val, step))\n",
    "ax.legend(loc='lower right', ncol=2)\n",
    "ax.set_ylabel('Geschätzte Stimmbeteiligung in %')\n",
    "ax.set_xlabel('Tage vor Urnengang')\n",
    "ax.set_ylim(bottom=0)\n",
    "ax.invert_xaxis()\n",
    "plt.show()"
   ]
  }
 ],
 "metadata": {
  "kernelspec": {
   "display_name": "Python 3 (ipykernel)",
   "language": "python",
   "name": "python3"
  },
  "language_info": {
   "codemirror_mode": {
    "name": "ipython",
    "version": 3
   },
   "file_extension": ".py",
   "mimetype": "text/x-python",
   "name": "python",
   "nbconvert_exporter": "python",
   "pygments_lexer": "ipython3",
   "version": "3.7.3"
  },
  "toc": {
   "base_numbering": 1,
   "nav_menu": {},
   "number_sections": true,
   "sideBar": true,
   "skip_h1_title": false,
   "title_cell": "Table of Contents",
   "title_sidebar": "Contents",
   "toc_cell": false,
   "toc_position": {},
   "toc_section_display": true,
   "toc_window_display": false
  }
 },
 "nbformat": 4,
 "nbformat_minor": 5
}
