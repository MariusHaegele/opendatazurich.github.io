{
 "cells": [
  {
   "cell_type": "code",
   "execution_count": null,
   "id": "330459b8",
   "metadata": {},
   "outputs": [],
   "source": [
    "import pandas as pd\n",
    "import matplotlib.pyplot as plt\n",
    "import matplotlib.dates as mdates\n",
    "import sszpalette\n",
    "import datetime"
   ]
  },
  {
   "cell_type": "code",
   "execution_count": null,
   "id": "fe555340",
   "metadata": {},
   "outputs": [],
   "source": [
    "def use_style(style):\n",
    "    plt.style.use('default')\n",
    "    plt.style.use(style)"
   ]
  },
  {
   "cell_type": "code",
   "execution_count": null,
   "id": "e2dc7a89",
   "metadata": {},
   "outputs": [],
   "source": [
    "sszpalette.register()"
   ]
  },
  {
   "cell_type": "code",
   "execution_count": null,
   "id": "80f25e98",
   "metadata": {},
   "outputs": [],
   "source": [
    "use_style('seaborn')\n",
    "plt.set_cmap('harmonic12')\n",
    "plt.rcParams['axes.prop_cycle'] = plt.cycler(color=plt.get_cmap().colors)"
   ]
  },
  {
   "cell_type": "code",
   "execution_count": null,
   "id": "b60c4a87",
   "metadata": {},
   "outputs": [],
   "source": [
    "csv_url = 'https://github.com/opendatazurich/opendatazurich.github.io/raw/master/automation/sonnenscheindauer/sonnenscheindauer.csv'\n",
    "df = pd.read_csv(csv_url, na_values={'sonnenschein_h': ['-', '–']}, parse_dates=[4])\n",
    "\n",
    "# drop empty sonnenschein_h rows\n",
    "df = df.dropna(subset=['sonnenschein_h'])\n",
    "\n",
    "# convert to integer\n",
    "df = df.astype({'sonnenschein_h': 'int64'})\n",
    "\n",
    "# create date column\n",
    "df = df.rename(columns={'jahr': 'year', 'monat': 'month'})\n",
    "df['datum'] = pd.to_datetime(df[['year', 'month']].assign(DAY=1))\n",
    "\n",
    "df"
   ]
  },
  {
   "cell_type": "code",
   "execution_count": null,
   "id": "f8dfe708",
   "metadata": {},
   "outputs": [],
   "source": [
    "# group by station\n",
    "df.groupby(['station'], as_index=False).agg(station_count=('station', 'count'))"
   ]
  },
  {
   "cell_type": "code",
   "execution_count": null,
   "id": "1e69c6aa",
   "metadata": {},
   "outputs": [],
   "source": [
    "df_zermatt = df[df.station == 'Zermatt']\n",
    "df_adelboden = df[df.station == 'Adelboden']\n",
    "df_jfj = df[df.station == 'Jungfraujoch Sphinx']"
   ]
  },
  {
   "cell_type": "code",
   "execution_count": null,
   "id": "b4bcd0a7",
   "metadata": {},
   "outputs": [],
   "source": [
    "fig, ax = plt.subplots(figsize=(15,10))\n",
    "df_zermatt.plot(kind='line', y='sonnenschein_h', x=\"datum\", label=\"Zermatt\", ax=ax)\n",
    "df_adelboden.plot(kind='line', y='sonnenschein_h', x=\"datum\", label=\"Adelboden\", ax=ax)\n",
    "df_jfj.plot(kind='line', y='sonnenschein_h', x=\"datum\", label=\"Jungfraujoch\", ax=ax)\n",
    "\n",
    "ax.legend(loc='lower right')\n",
    "ax.set_ylabel('Sonnenschein (Stunden pro Monat)')\n",
    "ax.set_xlabel('Zeit')\n",
    "ax.set_ylim(bottom=0)\n",
    "plt.show()"
   ]
  },
  {
   "cell_type": "code",
   "execution_count": null,
   "id": "00d86770",
   "metadata": {},
   "outputs": [],
   "source": [
    "# Stationsvergleich in einem Jahr\n",
    "\n",
    "year = 2021\n",
    "\n",
    "fig, ax = plt.subplots()\n",
    "\n",
    "ax.set_xlim([datetime.date(year, 1, 1), datetime.date(year, 12, 1)])\n",
    "ax.xaxis.set_major_formatter(mdates.DateFormatter('%b %Y'))\n",
    "fig.suptitle(f'Sonnenscheindauer im Jahr {year}', fontsize=32, fontweight='bold')\n",
    "df_zermatt.plot(kind='line', y='sonnenschein_h', x=\"datum\", label=\"Zermatt\", ax=ax)\n",
    "df_adelboden.plot(kind='line', y='sonnenschein_h', x=\"datum\", label=\"Adelboden\", ax=ax)\n",
    "df_jfj.plot(kind='line', y='sonnenschein_h', x=\"datum\", label=\"Jungfraujoch\", ax=ax)\n",
    "\n",
    "ax.legend(loc='lower right')\n",
    "ax.set_ylabel('Sonnenschein (Stunden pro Monat)')\n",
    "ax.set_xlabel('Zeit')\n",
    "ax.set_ylim(bottom=0)\n",
    "\n",
    "plt.show()"
   ]
  },
  {
   "cell_type": "code",
   "execution_count": null,
   "id": "e365be5a",
   "metadata": {},
   "outputs": [],
   "source": [
    "# Jahresvergleich\n",
    "\n",
    "df_zh = df[df.station == 'Zürich / Fluntern']\n",
    "\n",
    "fig, ax = plt.subplots()\n",
    "fig.suptitle(f'Sonnenscheindauer in Zürich / Fluntern', fontsize=32, fontweight='bold')\n",
    "\n",
    "for year in range(2018, 2022):\n",
    "    df_zh[df_zh.year == year].plot(kind='line', y='sonnenschein_h', x=\"month\", label=year, ax=ax)\n",
    "\n",
    "ax.legend(loc='upper right')\n",
    "ax.set_ylabel('Sonnenschein (Stunden pro Monat)')\n",
    "ax.set_xlabel('Monat')\n",
    "ax.set_ylim(bottom=0)\n",
    "\n",
    "plt.show()"
   ]
  },
  {
   "cell_type": "code",
   "execution_count": null,
   "id": "1bb214f9",
   "metadata": {},
   "outputs": [],
   "source": []
  },
  {
   "cell_type": "code",
   "execution_count": null,
   "id": "90e82a54",
   "metadata": {},
   "outputs": [],
   "source": []
  }
 ],
 "metadata": {
  "kernelspec": {
   "display_name": "Python 3 (ipykernel)",
   "language": "python",
   "name": "python3"
  },
  "language_info": {
   "codemirror_mode": {
    "name": "ipython",
    "version": 3
   },
   "file_extension": ".py",
   "mimetype": "text/x-python",
   "name": "python",
   "nbconvert_exporter": "python",
   "pygments_lexer": "ipython3",
   "version": "3.7.3"
  },
  "toc": {
   "base_numbering": 1,
   "nav_menu": {},
   "number_sections": true,
   "sideBar": true,
   "skip_h1_title": false,
   "title_cell": "Table of Contents",
   "title_sidebar": "Contents",
   "toc_cell": false,
   "toc_position": {},
   "toc_section_display": true,
   "toc_window_display": false
  }
 },
 "nbformat": 4,
 "nbformat_minor": 5
}
